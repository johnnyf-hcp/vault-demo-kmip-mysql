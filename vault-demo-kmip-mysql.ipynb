{
 "cells": [
  {
   "cell_type": "markdown",
   "metadata": {},
   "source": [
    "# HashiCorp Vault Demo for KMIP Secrets Engine and MySQL Enterprise TDE\n",
    "\n",
    "The OASIS Key Management Interoperability Protocol (KMIP) standard is a widely adopted protocol for handling cryptographic workloads and secrets management for enterprise infrastructure such as databases, network storage, and virtual/physical servers.  When an organization has services and applications that need to perform cryptographic operations (e.g.: transparent database encryption (TDE), full disk encryption, etc.), it often delegates the key management task to an external provider via KMIP protocol. \n",
    "\n",
    "This demo demonstrates HashiCorp Vault's KMIP Secrets Engine to allow Vault to function as a KMIP server for clients that that retrieve cryptographic keys for encrypting data via the KMIP protocol.\n",
    "\n",
    "\n",
    "## Setup of the Demo\n",
    "\n",
    "This setup is tested on MacOS and is meant to simulate a distributed setup.  The components used in this demo are:\n",
    "- Vault Enterprise installed on docker (to simulate an external Vault)\n",
    "- MySQL Enterprise installed on docker (to simulate an external MySQL that requires TDE encryption.  i.e. encryption at rest.)\n",
    "- You have the Vault CLI installed\n",
    "\n",
    "This assumes your Vault server is installed using docker and already running on http://127.0.0.1:8200\n",
    "and you have set your VAULT_ADDR and VAULT_TOKEN variables.\n",
    "\n",
    "Note: You will need Vault to be installed with an ADP KMIP license add-on.  Also note that a Premium license is required if you wish the KMIP listener to scale on the Vault cluster.  For Standard or Plus license, the KMIP listener is only on the leader node.\n",
    "\n",
    "## Requirements to Run This Demo\n",
    "You will need Visual Studio Code to be installed with the Jupyter plugin.  To run this notebook in VS Code, chose the Jupyter kernel and then Bash.\n",
    "- To run the current cell, use Ctrl + Enter.\n",
    "- To run the current cell and advance to the next, use Shift+Enter."
   ]
  },
  {
   "cell_type": "markdown",
   "metadata": {},
   "source": [
    "# Setup Pre-requisites (One-time)\n",
    "\n",
    "Assumes you have docker installed and brew installed\n",
    "\n",
    "- https://docs.docker.com/desktop/install/mac-install/\n",
    "- https://brew.sh/\n",
    "\n",
    "MySQL Enterprise Edition is required to use keyring_okv KMIP plugin.\n",
    "- https://dev.mysql.com/doc/refman/8.0/en/keyring-okv-plugin.html\n",
    "\n",
    "We will require an Oracle account to access the MySQL Enterprise trial.\n",
    "\n",
    "- Go to https://edelivery.oracle.com and create an account (Click on \"Create Account\").  Note: Register with a valid email and details otherwise the account might not be allowed to download.  Enter your account details below.\n",
    "- Go to https://container-registry.oracle.com and login.\n",
    "- Search for \"mysql enterprise\" and click on the MySQL Server Enterprise Edition repository link.\n",
    "- Accept the License Agreement for MySQL Enterprise.\n",
    "- See the tags of the container version that you wish to use and update the docker commands below."
   ]
  },
  {
   "cell_type": "code",
   "execution_count": null,
   "metadata": {
    "vscode": {
     "languageId": "shellscript"
    }
   },
   "outputs": [],
   "source": [
    "# Important! Update your oracle account details here.\n",
    "export ORACLE_REG_EMAIL=\n",
    "export ORACLE_REG_PASSWORD=\n",
    "\n",
    "# Use the MySQL Enterprise docker image for linux/arm64\n",
    "export MYSQL_TAG=8.3.0-aarch64\n",
    "# This is for linux/amd64 platforms\n",
    "#export MYSQL_TAG=8.3.0\n",
    "#export MYSQL_TAG=latest\n",
    "\n",
    "# Log into the Oracle docker registry\n",
    "echo \"$ORACLE_REG_PASSWORD\" | docker login container-registry.oracle.com -u $ORACLE_REG_EMAIL --password-stdin\n",
    "# Pull the MySQL Enterprise docker image\n",
    "docker pull container-registry.oracle.com/mysql/enterprise-server:$MYSQL_TAG"
   ]
  },
  {
   "cell_type": "markdown",
   "metadata": {},
   "source": [
    "# Setting up HashiCorp Vault"
   ]
  },
  {
   "cell_type": "code",
   "execution_count": null,
   "metadata": {
    "vscode": {
     "languageId": "shellscript"
    }
   },
   "outputs": [],
   "source": [
    "# Optional.  The following are some sample commands for running Vault Enterprise in docker.\n",
    "# Expose both the Vault API and the KMIP ports to the host machine.\n",
    "export VAULT_PORT=8200\n",
    "export VAULT_KMIP_PORT=5696\n",
    "export VAULT_ADDR=\"http://127.0.0.1:${VAULT_PORT}\"\n",
    "export VAULT_TOKEN=\"root\"\n",
    "# Change the path to your license file\n",
    "export VAULT_LICENSE=$(cat $HOME/vault-enterprise/vault_local/data/vault.hclic)\n",
    "docker run -d --rm --name vault-enterprise --cap-add=IPC_LOCK \\\n",
    "-e \"VAULT_DEV_ROOT_TOKEN_ID=${VAULT_TOKEN}\" \\\n",
    "-e \"VAULT_DEV_LISTEN_ADDRESS=:${VAULT_PORT}\" \\\n",
    "-e \"VAULT_LICENSE=${VAULT_LICENSE}\" \\\n",
    "-p ${VAULT_KMIP_PORT}:${VAULT_KMIP_PORT} \\\n",
    "-p ${VAULT_PORT}:${VAULT_PORT} hashicorp/vault-enterprise:latest"
   ]
  },
  {
   "cell_type": "markdown",
   "metadata": {},
   "source": [
    "# Vault KMIP Secrets Engine\n",
    "This section demonstrates the KMIP secrets engine and how it functions as a KMIP server with MySQL Server TDE.\n",
    "\n",
    "Ref:\n",
    "- https://developer.hashicorp.com/vault/docs/secrets/kmip\n",
    "\n",
    "## Step 1 - Enable Vault KMIP Engine"
   ]
  },
  {
   "cell_type": "code",
   "execution_count": null,
   "metadata": {
    "vscode": {
     "languageId": "shellscript"
    }
   },
   "outputs": [],
   "source": [
    "# Enable KMIP secrets engine at the default mount path\n",
    "#vault secrets disable kmip\n",
    "vault secrets enable kmip"
   ]
  },
  {
   "cell_type": "code",
   "execution_count": null,
   "metadata": {
    "vscode": {
     "languageId": "shellscript"
    }
   },
   "outputs": [],
   "source": [
    "# Start KMIP Server and set client TLS certificate TTL to 365 days\n",
    "\n",
    "# Option 1 - Elliptic Curve (EC) is the default\n",
    "vault write kmip/config listen_addrs=0.0.0.0:$VAULT_KMIP_PORT default_tls_client_ttl=365d\n",
    "# Option 2 - RSA\n",
    "#vault write kmip/config listen_addrs=0.0.0.0:$VAULT_KMIP_PORT tls_ca_key_type=\"rsa\" tls_ca_key_bits=2048 default_tls_client_ttl=365d\n",
    "\n",
    "# Check the KMIP configuration\n",
    "echo\n",
    "vault read kmip/config"
   ]
  },
  {
   "cell_type": "markdown",
   "metadata": {},
   "source": [
    "## Step 2 - Creating the KMIP certificates for MySQL Server TDE"
   ]
  },
  {
   "cell_type": "code",
   "execution_count": null,
   "metadata": {
    "vscode": {
     "languageId": "shellscript"
    }
   },
   "outputs": [],
   "source": [
    "# Create a folder for the KMIP certificates to be used by MySQL Server\n",
    "mkdir -p root/mysql-keyring-okv/ssl"
   ]
  },
  {
   "cell_type": "code",
   "execution_count": null,
   "metadata": {
    "vscode": {
     "languageId": "shellscript"
    }
   },
   "outputs": [],
   "source": [
    "# Read and store the CA certificate.  Note that in linux, the casing of the name needs to be CA.pem and not ca.pem.\n",
    "# On MacOS, the casing doesn't matter.\n",
    "vault read -format=json kmip/ca | jq -r .data.ca_pem > root/mysql-keyring-okv/ssl/CA.pem\n",
    "\n",
    "echo \"CA certification:\"\n",
    "cat root/mysql-keyring-okv/ssl/CA.pem"
   ]
  },
  {
   "cell_type": "markdown",
   "metadata": {},
   "source": [
    "## Step 2a - Create KMIP Scope in Vault\n",
    "\n",
    "The KMIP secrets engine uses the concept of scopes to partition KMIP managed object storage into multiple named buckets. Within a scope, roles can be created which dictate the set of allowed operations that the particular role can perform. TLS client certificates can be generated for a role, which services and applications can then use when sending KMIP requests against Vault's KMIP secret engine.\n",
    "\n",
    "In order to generate client certificates for KMIP clients to interact with Vault's KMIP server, we must first create a scope and role and specify the desired set of allowed operations for it."
   ]
  },
  {
   "cell_type": "code",
   "execution_count": null,
   "metadata": {
    "vscode": {
     "languageId": "shellscript"
    }
   },
   "outputs": [],
   "source": [
    "# Settings for the KMIP scope and role to be created\n",
    "export KMIP_SVC_NAME=my-service\n",
    "export KMIP_ROLE_NAME=admin\n",
    "# Create a scope\n",
    "vault write -f kmip/scope/$KMIP_SVC_NAME\n",
    "\n",
    "# List scopes and verify the KMIP scope has been created\n",
    "echo\n",
    "vault list kmip/scope"
   ]
  },
  {
   "cell_type": "code",
   "execution_count": null,
   "metadata": {
    "vscode": {
     "languageId": "shellscript"
    }
   },
   "outputs": [],
   "source": [
    "# Create the KMIP role (note the TTL if not set, it uses the default Vault token/lease TTL of 768hrs)\n",
    "vault write kmip/scope/$KMIP_SVC_NAME/role/$KMIP_ROLE_NAME operation_all=true tls_client_ttl=365d\n",
    "\n",
    "# List roles and verify the KMIP role has been created\n",
    "echo\n",
    "vault list kmip/scope/$KMIP_SVC_NAME/role"
   ]
  },
  {
   "cell_type": "code",
   "execution_count": null,
   "metadata": {
    "vscode": {
     "languageId": "shellscript"
    }
   },
   "outputs": [],
   "source": [
    "# Optional - View the role details\n",
    "vault read kmip/scope/$KMIP_SVC_NAME/role/$KMIP_ROLE_NAME"
   ]
  },
  {
   "cell_type": "code",
   "execution_count": null,
   "metadata": {
    "vscode": {
     "languageId": "shellscript"
    }
   },
   "outputs": [],
   "source": [
    "# Generate the required certificates\n",
    "vault write -format=json \\\n",
    "  kmip/scope/$KMIP_SVC_NAME/role/$KMIP_ROLE_NAME/credential/generate \\\n",
    "  format=pem > credential.json\n",
    "\n",
    "# Save the certificate and private key\n",
    "jq -r .data.certificate < credential.json > root/mysql-keyring-okv/ssl/cert.pem\n",
    "jq -r .data.private_key < credential.json > root/mysql-keyring-okv/ssl/key.pem\n",
    "\n",
    "# Remove the temp file\n",
    "rm credential.json"
   ]
  },
  {
   "cell_type": "markdown",
   "metadata": {},
   "source": [
    "## Step 3 - Configuring MySQL Server for TDE with Vault as the KMIP server"
   ]
  },
  {
   "cell_type": "code",
   "execution_count": null,
   "metadata": {
    "vscode": {
     "languageId": "shellscript"
    }
   },
   "outputs": [],
   "source": [
    "# Get the docker IP address of the Vault server\n",
    "export VAULT_IP=$(docker inspect -f '{{range .NetworkSettings.Networks}}{{.IPAddress}}{{end}}' vault-enterprise)\n",
    "echo \"Vault IP Address is: $VAULT_IP\"\n",
    "echo \"Vault KMIP Port is: $VAULT_KMIP_PORT\"\n",
    "\n",
    "# Create the okvclient.ora file.  Specifies the KMIP server for MySQL Server.\n",
    "# For this demo, we will be using the same Vault server as the standby.\n",
    "# Note: Do not create this file on a windows machines as it inserts a CRLF character instead of a LF character on the line break.\n",
    "# This will cause an error on MySQL server on load.\n",
    "echo\n",
    "tee root/mysql-keyring-okv/okvclient.ora <<EOF\n",
    "SERVER=$VAULT_IP:$VAULT_KMIP_PORT\n",
    "STANDBY_SERVER=$VAULT_IP:$VAULT_KMIP_PORT\n",
    "EOF"
   ]
  },
  {
   "cell_type": "code",
   "execution_count": null,
   "metadata": {
    "vscode": {
     "languageId": "shellscript"
    }
   },
   "outputs": [],
   "source": [
    "# Configure my.cnf that MySQL Server will use.\n",
    "tee root/my.cnf <<EOF\n",
    "[mysqld]\n",
    "port=3306\n",
    "early-plugin-load=keyring_okv.so\n",
    "keyring_okv_conf_dir=/mysql-keyring-okv\n",
    "EOF"
   ]
  },
  {
   "cell_type": "code",
   "execution_count": null,
   "metadata": {
    "vscode": {
     "languageId": "shellscript"
    }
   },
   "outputs": [],
   "source": [
    "# Run MySQL Enterprise in docker.\n",
    "# Expose both the MySQL port to the host machine.\n",
    "export MYSQL_PORT=3306\n",
    "export MYSQL_TAG=8.3.0-aarch64\n",
    "\n",
    "echo \"MySQL Container Version Used: $MYSQL_TAG\"\n",
    "echo\n",
    "docker run -d --rm --name mysql-enterprise \\\n",
    "--mount type=bind,src=./root/my.cnf,dst=/etc/my.cnf \\\n",
    "--mount type=bind,src=./root/mysql-keyring-okv,dst=/mysql-keyring-okv \\\n",
    "-p ${MYSQL_PORT}:${MYSQL_PORT} container-registry.oracle.com/mysql/enterprise-server:$MYSQL_TAG\n"
   ]
  },
  {
   "cell_type": "code",
   "execution_count": null,
   "metadata": {
    "vscode": {
     "languageId": "shellscript"
    }
   },
   "outputs": [],
   "source": [
    "# Verify that the MySQL Server docker container is running\n",
    "docker ps"
   ]
  },
  {
   "cell_type": "markdown",
   "metadata": {},
   "source": [
    "## Step 4 - MySQL Server TDE Configuration Steps"
   ]
  },
  {
   "cell_type": "code",
   "execution_count": null,
   "metadata": {
    "vscode": {
     "languageId": "shellscript"
    }
   },
   "outputs": [],
   "source": [
    "# set mysql alias to make it easier to execute mysql commands to the mysql docker container\n",
    "alias mysql=\"docker exec -it mysql-enterprise mysql\""
   ]
  },
  {
   "cell_type": "code",
   "execution_count": null,
   "metadata": {
    "vscode": {
     "languageId": "shellscript"
    }
   },
   "outputs": [],
   "source": [
    "# Get the generated root password\n",
    "export MYSQL_GEN_ROOT_PASSWORD=$(docker logs mysql-enterprise 2>&1 | grep GENERATED | cut -d \" \" -f5)\n",
    "echo \"Generated MySQL root password: $MYSQL_GEN_ROOT_PASSWORD\""
   ]
  },
  {
   "cell_type": "code",
   "execution_count": null,
   "metadata": {
    "vscode": {
     "languageId": "shellscript"
    }
   },
   "outputs": [],
   "source": [
    "# You will need to change the generated root password before running any other commands\n",
    "export MYSQL_ROOT_PASSWORD=root\n",
    "mysql --connect-expired-password -u root -p\"$MYSQL_GEN_ROOT_PASSWORD\" -e \"ALTER USER 'root'@'localhost' IDENTIFIED BY '$MYSQL_ROOT_PASSWORD';\""
   ]
  },
  {
   "cell_type": "code",
   "execution_count": null,
   "metadata": {
    "vscode": {
     "languageId": "shellscript"
    }
   },
   "outputs": [],
   "source": [
    "# Verify that the keyring_okv plugin is installed and the status is ACTIVE\n",
    "mysql -u root -p'root' -e \\\n",
    "\"SELECT PLUGIN_NAME, PLUGIN_STATUS\n",
    "FROM INFORMATION_SCHEMA.PLUGINS\n",
    "WHERE PLUGIN_NAME LIKE 'keyring%';\""
   ]
  },
  {
   "cell_type": "code",
   "execution_count": null,
   "metadata": {
    "vscode": {
     "languageId": "shellscript"
    }
   },
   "outputs": [],
   "source": [
    "# Install the general purpose keyring key-management functions\n",
    "# https://dev.mysql.com/doc/refman/8.0/en/keyring-functions-general-purpose.html\n",
    "mysql -u root -p'root' -e \\\n",
    "\"INSTALL PLUGIN keyring_udf SONAME 'keyring_udf.so';\n",
    "CREATE FUNCTION keyring_key_generate RETURNS INTEGER\n",
    "SONAME 'keyring_udf.so';\n",
    "CREATE FUNCTION keyring_key_fetch RETURNS STRING\n",
    "SONAME 'keyring_udf.so';\n",
    "CREATE FUNCTION keyring_key_length_fetch RETURNS INTEGER\n",
    "SONAME 'keyring_udf.so';\n",
    "CREATE FUNCTION keyring_key_type_fetch RETURNS STRING\n",
    "SONAME 'keyring_udf.so';\n",
    "CREATE FUNCTION keyring_key_store RETURNS INTEGER\n",
    "SONAME 'keyring_udf.so';\n",
    "CREATE FUNCTION keyring_key_remove RETURNS INTEGER\n",
    "SONAME 'keyring_udf.so';\""
   ]
  },
  {
   "cell_type": "markdown",
   "metadata": {},
   "source": [
    "## Step 5 - Testing MySQL TDE functionality"
   ]
  },
  {
   "cell_type": "code",
   "execution_count": null,
   "metadata": {
    "vscode": {
     "languageId": "shellscript"
    }
   },
   "outputs": [],
   "source": [
    "# Create a new random key and store it on the keyring\n",
    "# If the KMIP configuration is not done right, this function will return an error.\n",
    "# Also note it will throw an error if the MyKey1 already exists\n",
    "mysql -u root -p'root' -e \\\n",
    "\"SELECT keyring_key_generate('MyKey1', 'AES', 32);\""
   ]
  },
  {
   "cell_type": "code",
   "execution_count": null,
   "metadata": {
    "vscode": {
     "languageId": "shellscript"
    }
   },
   "outputs": [],
   "source": [
    "# Test creating a test database and table\n",
    "mysql -u root -p'root' -e \\\n",
    "\"CREATE DATABASE scripting;\"\n",
    "\n",
    "mysql -u root -p'root' -e \\\n",
    "\"USE scripting;\n",
    "CREATE TABLE test_encryption (\n",
    "  ID int(10) unsigned NOT NULL AUTO_INCREMENT,\n",
    "  server_name varchar(15) NOT NULL,\n",
    "  PRIMARY KEY (id)\n",
    ") ENGINE=InnoDB AUTO_INCREMENT=1 DEFAULT CHARSET=latin1 ENCRYPTION = 'Y';\"\n"
   ]
  },
  {
   "cell_type": "code",
   "execution_count": null,
   "metadata": {
    "vscode": {
     "languageId": "shellscript"
    }
   },
   "outputs": [],
   "source": [
    "# Run this command to insert test data into the table\n",
    "mysql -u root -p'root' -e \\\n",
    "\"USE scripting;\n",
    "INSERT INTO test_encryption(server_name)\n",
    "VALUES (CONCAT('websvr-', SUBSTR(MD5(RAND()),1,8)));\"\n",
    "\n",
    "# View the records in the table\n",
    "mysql -u root -p'root' -e \\\n",
    "\"USE scripting;\n",
    "SELECT * FROM test_encryption;\""
   ]
  },
  {
   "cell_type": "code",
   "execution_count": null,
   "metadata": {
    "vscode": {
     "languageId": "shellscript"
    }
   },
   "outputs": [],
   "source": [
    "# Test master key rotation\n",
    "mysql -u root -p'root' -e \\\n",
    "\"ALTER INSTANCE ROTATE INNODB MASTER KEY;\""
   ]
  },
  {
   "cell_type": "code",
   "execution_count": null,
   "metadata": {
    "vscode": {
     "languageId": "shellscript"
    }
   },
   "outputs": [],
   "source": [
    "# Simulate that the KMIP server is down by changing the listening port to 5697\n",
    "vault write kmip/config listen_addrs=0.0.0.0:5697"
   ]
  },
  {
   "cell_type": "code",
   "execution_count": null,
   "metadata": {
    "vscode": {
     "languageId": "shellscript"
    }
   },
   "outputs": [],
   "source": [
    "# Verify that I can still insert and select data\n",
    "mysql -u root -p'root' -e \\\n",
    "\"USE scripting;\n",
    "INSERT INTO test_encryption(server_name)\n",
    "VALUES (CONCAT('websvr-', SUBSTR(MD5(RAND()),1,8)));\"\n",
    "\n",
    "# View the records in the table\n",
    "mysql -u root -p'root' -e \\\n",
    "\"USE scripting;\n",
    "SELECT * FROM test_encryption;\""
   ]
  },
  {
   "cell_type": "code",
   "execution_count": null,
   "metadata": {
    "vscode": {
     "languageId": "shellscript"
    }
   },
   "outputs": [],
   "source": [
    "# Try rotating the master key.  As the KMIP server is \"down\", you should get an error.\n",
    "mysql -u root -p'root' -e \\\n",
    "\"ALTER INSTANCE ROTATE INNODB MASTER KEY;\""
   ]
  },
  {
   "cell_type": "code",
   "execution_count": null,
   "metadata": {
    "vscode": {
     "languageId": "shellscript"
    }
   },
   "outputs": [],
   "source": [
    "# Simulate restoring back the KMIP server by updating back to the original KMIP port number\n",
    "vault write kmip/config listen_addrs=0.0.0.0:$VAULT_KMIP_PORT"
   ]
  },
  {
   "cell_type": "code",
   "execution_count": null,
   "metadata": {
    "vscode": {
     "languageId": "shellscript"
    }
   },
   "outputs": [],
   "source": [
    "# Try rotating the master key again.  As the KMIP server is now \"restored\", this command should now return no errors.\n",
    "mysql -u root -p'root' -e \\\n",
    "\"ALTER INSTANCE ROTATE INNODB MASTER KEY;\""
   ]
  },
  {
   "cell_type": "markdown",
   "metadata": {},
   "source": [
    "# Cleanup"
   ]
  },
  {
   "cell_type": "code",
   "execution_count": null,
   "metadata": {
    "vscode": {
     "languageId": "shellscript"
    }
   },
   "outputs": [],
   "source": [
    "# Cleanup\n",
    "\n",
    "# Disable KMIP secrets engine\n",
    "vault secrets disable kmip\n",
    "\n",
    "# Remove KMIP certificate demo files\n",
    "rm -rf root\n",
    "\n",
    "# Stop Vault container\n",
    "docker stop vault-enterprise\n",
    "\n",
    "# Stop MySQL container\n",
    "docker stop mysql-enterprise"
   ]
  }
 ],
 "metadata": {
  "kernelspec": {
   "display_name": "Bash",
   "language": "bash",
   "name": "bash"
  },
  "language_info": {
   "codemirror_mode": "shell",
   "file_extension": ".sh",
   "mimetype": "text/x-sh",
   "name": "bash"
  },
  "orig_nbformat": 4
 },
 "nbformat": 4,
 "nbformat_minor": 2
}
